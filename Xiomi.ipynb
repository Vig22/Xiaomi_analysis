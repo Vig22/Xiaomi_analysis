{
 "cells": [
  {
   "cell_type": "code",
   "execution_count": 31,
   "metadata": {},
   "outputs": [],
   "source": [
    "import pandas as pd\n",
    "import numpy as np\n",
    "import matplotlib.pyplot as plt\n",
    "import seaborn as sns\n",
    "import statsmodels.formula.api as sm  #Machine learning Model\n",
    "from sklearn.linear_model import LinearRegression # Linear Regression\n",
    "from sklearn.preprocessing import PolynomialFeatures\n",
    "from sklearn.metrics import mean_squared_error\n",
    "from math import sqrt"
   ]
  },
  {
   "cell_type": "code",
   "execution_count": 2,
   "metadata": {},
   "outputs": [],
   "source": [
    "## Data Import\n",
    "df=pd.read_excel(\"Xiomi Website Data.xlsx\")"
   ]
  },
  {
   "cell_type": "code",
   "execution_count": 3,
   "metadata": {},
   "outputs": [
    {
     "data": {
      "text/html": [
       "<div>\n",
       "<style scoped>\n",
       "    .dataframe tbody tr th:only-of-type {\n",
       "        vertical-align: middle;\n",
       "    }\n",
       "\n",
       "    .dataframe tbody tr th {\n",
       "        vertical-align: top;\n",
       "    }\n",
       "\n",
       "    .dataframe thead th {\n",
       "        text-align: right;\n",
       "    }\n",
       "</style>\n",
       "<table border=\"1\" class=\"dataframe\">\n",
       "  <thead>\n",
       "    <tr style=\"text-align: right;\">\n",
       "      <th></th>\n",
       "      <th>Customer</th>\n",
       "      <th>Day</th>\n",
       "      <th>Browser</th>\n",
       "      <th>No. of Clicks</th>\n",
       "      <th>Pages Viewed</th>\n",
       "      <th>Time (min)</th>\n",
       "      <th>Amount Spent (Rs.)</th>\n",
       "    </tr>\n",
       "  </thead>\n",
       "  <tbody>\n",
       "    <tr>\n",
       "      <th>0</th>\n",
       "      <td>1</td>\n",
       "      <td>Monday</td>\n",
       "      <td>Chrome</td>\n",
       "      <td>13</td>\n",
       "      <td>4</td>\n",
       "      <td>8.5</td>\n",
       "      <td>2668.0</td>\n",
       "    </tr>\n",
       "    <tr>\n",
       "      <th>1</th>\n",
       "      <td>2</td>\n",
       "      <td>Saturday</td>\n",
       "      <td>Chrome</td>\n",
       "      <td>15</td>\n",
       "      <td>5</td>\n",
       "      <td>16.9</td>\n",
       "      <td>3469.0</td>\n",
       "    </tr>\n",
       "    <tr>\n",
       "      <th>2</th>\n",
       "      <td>3</td>\n",
       "      <td>Monday</td>\n",
       "      <td>Internet Explorer</td>\n",
       "      <td>20</td>\n",
       "      <td>6</td>\n",
       "      <td>7.3</td>\n",
       "      <td>5215.0</td>\n",
       "    </tr>\n",
       "    <tr>\n",
       "      <th>3</th>\n",
       "      <td>4</td>\n",
       "      <td>Monday</td>\n",
       "      <td>Chrome</td>\n",
       "      <td>42</td>\n",
       "      <td>6</td>\n",
       "      <td>30.1</td>\n",
       "      <td>10423.0</td>\n",
       "    </tr>\n",
       "    <tr>\n",
       "      <th>4</th>\n",
       "      <td>5</td>\n",
       "      <td>Saturday</td>\n",
       "      <td>Internet Explorer</td>\n",
       "      <td>20</td>\n",
       "      <td>6</td>\n",
       "      <td>13.3</td>\n",
       "      <td>5404.0</td>\n",
       "    </tr>\n",
       "  </tbody>\n",
       "</table>\n",
       "</div>"
      ],
      "text/plain": [
       "   Customer       Day            Browser  No. of Clicks  Pages Viewed  \\\n",
       "0         1    Monday             Chrome             13             4   \n",
       "1         2  Saturday             Chrome             15             5   \n",
       "2         3    Monday  Internet Explorer             20             6   \n",
       "3         4    Monday             Chrome             42             6   \n",
       "4         5  Saturday  Internet Explorer             20             6   \n",
       "\n",
       "   Time (min)  Amount Spent (Rs.)  \n",
       "0         8.5              2668.0  \n",
       "1        16.9              3469.0  \n",
       "2         7.3              5215.0  \n",
       "3        30.1             10423.0  \n",
       "4        13.3              5404.0  "
      ]
     },
     "execution_count": 3,
     "metadata": {},
     "output_type": "execute_result"
    }
   ],
   "source": [
    "df.head()"
   ]
  },
  {
   "cell_type": "code",
   "execution_count": 4,
   "metadata": {},
   "outputs": [
    {
     "name": "stdout",
     "output_type": "stream",
     "text": [
      "<class 'pandas.core.frame.DataFrame'>\n",
      "RangeIndex: 43200 entries, 0 to 43199\n",
      "Data columns (total 7 columns):\n",
      "Customer              43200 non-null int64\n",
      "Day                   43200 non-null object\n",
      "Browser               43200 non-null object\n",
      "No. of Clicks         43200 non-null int64\n",
      "Pages Viewed          43200 non-null int64\n",
      "Time (min)            43200 non-null float64\n",
      "Amount Spent (Rs.)    43200 non-null float64\n",
      "dtypes: float64(2), int64(3), object(2)\n",
      "memory usage: 2.3+ MB\n"
     ]
    }
   ],
   "source": [
    "df.info()"
   ]
  },
  {
   "cell_type": "code",
   "execution_count": 5,
   "metadata": {},
   "outputs": [
    {
     "data": {
      "text/plain": [
       "Customer              0\n",
       "Day                   0\n",
       "Browser               0\n",
       "No. of Clicks         0\n",
       "Pages Viewed          0\n",
       "Time (min)            0\n",
       "Amount Spent (Rs.)    0\n",
       "dtype: int64"
      ]
     },
     "execution_count": 5,
     "metadata": {},
     "output_type": "execute_result"
    }
   ],
   "source": [
    "df.isnull().sum()"
   ]
  },
  {
   "cell_type": "code",
   "execution_count": 6,
   "metadata": {},
   "outputs": [
    {
     "data": {
      "text/html": [
       "<div>\n",
       "<style scoped>\n",
       "    .dataframe tbody tr th:only-of-type {\n",
       "        vertical-align: middle;\n",
       "    }\n",
       "\n",
       "    .dataframe tbody tr th {\n",
       "        vertical-align: top;\n",
       "    }\n",
       "\n",
       "    .dataframe thead th {\n",
       "        text-align: right;\n",
       "    }\n",
       "</style>\n",
       "<table border=\"1\" class=\"dataframe\">\n",
       "  <thead>\n",
       "    <tr style=\"text-align: right;\">\n",
       "      <th></th>\n",
       "      <th>Customer</th>\n",
       "      <th>No. of Clicks</th>\n",
       "      <th>Pages Viewed</th>\n",
       "      <th>Time (min)</th>\n",
       "      <th>Amount Spent (Rs.)</th>\n",
       "    </tr>\n",
       "  </thead>\n",
       "  <tbody>\n",
       "    <tr>\n",
       "      <th>count</th>\n",
       "      <td>43200.000000</td>\n",
       "      <td>43200.000000</td>\n",
       "      <td>43200.000000</td>\n",
       "      <td>43200.000000</td>\n",
       "      <td>43200.000000</td>\n",
       "    </tr>\n",
       "    <tr>\n",
       "      <th>mean</th>\n",
       "      <td>21600.500000</td>\n",
       "      <td>23.740000</td>\n",
       "      <td>4.820000</td>\n",
       "      <td>12.810000</td>\n",
       "      <td>6812.820000</td>\n",
       "    </tr>\n",
       "    <tr>\n",
       "      <th>std</th>\n",
       "      <td>12470.910151</td>\n",
       "      <td>8.267647</td>\n",
       "      <td>2.016853</td>\n",
       "      <td>6.002444</td>\n",
       "      <td>3201.905731</td>\n",
       "    </tr>\n",
       "    <tr>\n",
       "      <th>min</th>\n",
       "      <td>1.000000</td>\n",
       "      <td>8.000000</td>\n",
       "      <td>2.000000</td>\n",
       "      <td>4.300000</td>\n",
       "      <td>1784.000000</td>\n",
       "    </tr>\n",
       "    <tr>\n",
       "      <th>25%</th>\n",
       "      <td>10800.750000</td>\n",
       "      <td>18.000000</td>\n",
       "      <td>3.000000</td>\n",
       "      <td>8.500000</td>\n",
       "      <td>4473.000000</td>\n",
       "    </tr>\n",
       "    <tr>\n",
       "      <th>50%</th>\n",
       "      <td>21600.500000</td>\n",
       "      <td>22.500000</td>\n",
       "      <td>4.500000</td>\n",
       "      <td>11.400000</td>\n",
       "      <td>6215.000000</td>\n",
       "    </tr>\n",
       "    <tr>\n",
       "      <th>75%</th>\n",
       "      <td>32400.250000</td>\n",
       "      <td>29.000000</td>\n",
       "      <td>6.000000</td>\n",
       "      <td>15.100000</td>\n",
       "      <td>8412.000000</td>\n",
       "    </tr>\n",
       "    <tr>\n",
       "      <th>max</th>\n",
       "      <td>43200.000000</td>\n",
       "      <td>46.000000</td>\n",
       "      <td>10.000000</td>\n",
       "      <td>32.900000</td>\n",
       "      <td>15851.000000</td>\n",
       "    </tr>\n",
       "  </tbody>\n",
       "</table>\n",
       "</div>"
      ],
      "text/plain": [
       "           Customer  No. of Clicks  Pages Viewed    Time (min)  \\\n",
       "count  43200.000000   43200.000000  43200.000000  43200.000000   \n",
       "mean   21600.500000      23.740000      4.820000     12.810000   \n",
       "std    12470.910151       8.267647      2.016853      6.002444   \n",
       "min        1.000000       8.000000      2.000000      4.300000   \n",
       "25%    10800.750000      18.000000      3.000000      8.500000   \n",
       "50%    21600.500000      22.500000      4.500000     11.400000   \n",
       "75%    32400.250000      29.000000      6.000000     15.100000   \n",
       "max    43200.000000      46.000000     10.000000     32.900000   \n",
       "\n",
       "       Amount Spent (Rs.)  \n",
       "count        43200.000000  \n",
       "mean          6812.820000  \n",
       "std           3201.905731  \n",
       "min           1784.000000  \n",
       "25%           4473.000000  \n",
       "50%           6215.000000  \n",
       "75%           8412.000000  \n",
       "max          15851.000000  "
      ]
     },
     "execution_count": 6,
     "metadata": {},
     "output_type": "execute_result"
    }
   ],
   "source": [
    "## information of the continuous data\n",
    "df.describe()"
   ]
  },
  {
   "cell_type": "code",
   "execution_count": 7,
   "metadata": {},
   "outputs": [
    {
     "data": {
      "text/html": [
       "<div>\n",
       "<style scoped>\n",
       "    .dataframe tbody tr th:only-of-type {\n",
       "        vertical-align: middle;\n",
       "    }\n",
       "\n",
       "    .dataframe tbody tr th {\n",
       "        vertical-align: top;\n",
       "    }\n",
       "\n",
       "    .dataframe thead th {\n",
       "        text-align: right;\n",
       "    }\n",
       "</style>\n",
       "<table border=\"1\" class=\"dataframe\">\n",
       "  <thead>\n",
       "    <tr style=\"text-align: right;\">\n",
       "      <th></th>\n",
       "      <th>Day</th>\n",
       "      <th>Browser</th>\n",
       "    </tr>\n",
       "  </thead>\n",
       "  <tbody>\n",
       "    <tr>\n",
       "      <th>count</th>\n",
       "      <td>43200</td>\n",
       "      <td>43200</td>\n",
       "    </tr>\n",
       "    <tr>\n",
       "      <th>unique</th>\n",
       "      <td>7</td>\n",
       "      <td>3</td>\n",
       "    </tr>\n",
       "    <tr>\n",
       "      <th>top</th>\n",
       "      <td>Friday</td>\n",
       "      <td>Chrome</td>\n",
       "    </tr>\n",
       "    <tr>\n",
       "      <th>freq</th>\n",
       "      <td>9504</td>\n",
       "      <td>23328</td>\n",
       "    </tr>\n",
       "  </tbody>\n",
       "</table>\n",
       "</div>"
      ],
      "text/plain": [
       "           Day Browser\n",
       "count    43200   43200\n",
       "unique       7       3\n",
       "top     Friday  Chrome\n",
       "freq      9504   23328"
      ]
     },
     "execution_count": 7,
     "metadata": {},
     "output_type": "execute_result"
    }
   ],
   "source": [
    "## information of the categorical data\n",
    "df.describe(include=['object'])  "
   ]
  },
  {
   "cell_type": "code",
   "execution_count": 8,
   "metadata": {},
   "outputs": [
    {
     "data": {
      "text/plain": [
       "array([    0,     1,     2, ..., 43197, 43198, 43199])"
      ]
     },
     "execution_count": 8,
     "metadata": {},
     "output_type": "execute_result"
    }
   ],
   "source": [
    "x= df.Day\n",
    "x1= np.arange(len(df.Day))\n",
    "x1"
   ]
  },
  {
   "cell_type": "code",
   "execution_count": 9,
   "metadata": {},
   "outputs": [
    {
     "data": {
      "text/plain": [
       "Index(['Customer', 'Day', 'Browser', 'No. of Clicks', 'Pages Viewed',\n",
       "       'Time (min)', 'Amount Spent (Rs.)'],\n",
       "      dtype='object')"
      ]
     },
     "execution_count": 9,
     "metadata": {},
     "output_type": "execute_result"
    }
   ],
   "source": [
    "df.columns"
   ]
  },
  {
   "cell_type": "code",
   "execution_count": 10,
   "metadata": {},
   "outputs": [
    {
     "data": {
      "text/plain": [
       "Index(['customer', 'day', 'browser', 'clicks', 'pages_viewed', 'time_(min)',\n",
       "       'amount'],\n",
       "      dtype='object')"
      ]
     },
     "execution_count": 10,
     "metadata": {},
     "output_type": "execute_result"
    }
   ],
   "source": [
    "## Rename the variables name\n",
    "df.columns= [col.replace(' ', '_').lower()for col in df.columns]\n",
    "df.columns\n",
    "df= df.rename({'amount_spent_(rs.)':'amount'}, axis=True)\n",
    "df.columns\n",
    "df= df.rename({'no._of_clicks':'clicks'}, axis=True)\n",
    "df.columns"
   ]
  },
  {
   "cell_type": "markdown",
   "metadata": {},
   "source": [
    "# Visualization"
   ]
  },
  {
   "cell_type": "code",
   "execution_count": 11,
   "metadata": {},
   "outputs": [
    {
     "data": {
      "text/plain": [
       "<matplotlib.axes._subplots.AxesSubplot at 0x248839ed6d8>"
      ]
     },
     "execution_count": 11,
     "metadata": {},
     "output_type": "execute_result"
    },
    {
     "data": {
      "image/png": "[encoded data removed]",
      "text/plain": [
       "<Figure size 432x288 with 1 Axes>"
      ]
     },
     "metadata": {
      "needs_background": "light"
     },
     "output_type": "display_data"
    }
   ],
   "source": [
    "df['day'].value_counts().plot('bar')"
   ]
  },
  {
   "cell_type": "code",
   "execution_count": 12,
   "metadata": {},
   "outputs": [
    {
     "data": {
      "text/plain": [
       "<matplotlib.axes._subplots.AxesSubplot at 0x24883447f98>"
      ]
     },
     "execution_count": 12,
     "metadata": {},
     "output_type": "execute_result"
    },
    {
     "data": {
      "image/png": "[encoded data removed]",
      "text/plain": [
       "<Figure size 432x288 with 1 Axes>"
      ]
     },
     "metadata": {
      "needs_background": "light"
     },
     "output_type": "display_data"
    }
   ],
   "source": [
    "df['browser'].value_counts().plot('bar')"
   ]
  },
  {
   "cell_type": "code",
   "execution_count": 13,
   "metadata": {},
   "outputs": [
    {
     "name": "stderr",
     "output_type": "stream",
     "text": [
      "C:\\Users\\hp\\Anaconda3\\lib\\site-packages\\seaborn\\categorical.py:3666: UserWarning: The `factorplot` function has been renamed to `catplot`. The original name will be removed in a future release. Please update your code. Note that the default `kind` in `factorplot` (`'point'`) has changed `'strip'` in `catplot`.\n",
      "  warnings.warn(msg)\n"
     ]
    },
    {
     "data": {
      "text/plain": [
       "<seaborn.axisgrid.FacetGrid at 0x248839c2860>"
      ]
     },
     "execution_count": 13,
     "metadata": {},
     "output_type": "execute_result"
    },
    {
     "data": {
      "image/png": "[encoded data removed]",
      "text/plain": [
       "<Figure size 360x360 with 1 Axes>"
      ]
     },
     "metadata": {
      "needs_background": "light"
     },
     "output_type": "display_data"
    }
   ],
   "source": [
    "sns.factorplot(data=df,x='browser', y='amount',kind='bar')"
   ]
  },
  {
   "cell_type": "code",
   "execution_count": 14,
   "metadata": {},
   "outputs": [
    {
     "data": {
      "text/plain": [
       "<matplotlib.axes._subplots.AxesSubplot at 0x24883a2da90>"
      ]
     },
     "execution_count": 14,
     "metadata": {},
     "output_type": "execute_result"
    },
    {
     "data": {
      "image/png": "[encoded data removed]",
      "text/plain": [
       "<Figure size 432x288 with 1 Axes>"
      ]
     },
     "metadata": {
      "needs_background": "light"
     },
     "output_type": "display_data"
    }
   ],
   "source": [
    "sns.boxplot(x='day', y='amount', data=df)"
   ]
  },
  {
   "cell_type": "code",
   "execution_count": 15,
   "metadata": {},
   "outputs": [
    {
     "data": {
      "text/plain": [
       "<matplotlib.axes._subplots.AxesSubplot at 0x24882abfc50>"
      ]
     },
     "execution_count": 15,
     "metadata": {},
     "output_type": "execute_result"
    },
    {
     "data": {
      "image/png": "[encoded data removed]",
      "text/plain": [
       "<Figure size 432x288 with 1 Axes>"
      ]
     },
     "metadata": {
      "needs_background": "light"
     },
     "output_type": "display_data"
    }
   ],
   "source": [
    "sns.boxplot(x='browser', y='amount', data=df)"
   ]
  },
  {
   "cell_type": "code",
   "execution_count": 16,
   "metadata": {},
   "outputs": [
    {
     "data": {
      "text/plain": [
       "<matplotlib.axes._subplots.AxesSubplot at 0x24883608358>"
      ]
     },
     "execution_count": 16,
     "metadata": {},
     "output_type": "execute_result"
    },
    {
     "data": {
      "image/png": "[encoded data removed]",
      "text/plain": [
       "<Figure size 432x288 with 1 Axes>"
      ]
     },
     "metadata": {
      "needs_background": "light"
     },
     "output_type": "display_data"
    }
   ],
   "source": [
    "sns.distplot(df['clicks'])"
   ]
  },
  {
   "cell_type": "code",
   "execution_count": 17,
   "metadata": {},
   "outputs": [
    {
     "data": {
      "text/plain": [
       "<matplotlib.axes._subplots.AxesSubplot at 0x24883877dd8>"
      ]
     },
     "execution_count": 17,
     "metadata": {},
     "output_type": "execute_result"
    },
    {
     "data": {
      "image/png": "[encoded data removed]",
      "text/plain": [
       "<Figure size 432x288 with 1 Axes>"
      ]
     },
     "metadata": {
      "needs_background": "light"
     },
     "output_type": "display_data"
    }
   ],
   "source": [
    "sns.distplot(df['pages_viewed'])"
   ]
  },
  {
   "cell_type": "code",
   "execution_count": 18,
   "metadata": {},
   "outputs": [
    {
     "data": {
      "text/plain": [
       "<matplotlib.axes._subplots.AxesSubplot at 0x2488347bc88>"
      ]
     },
     "execution_count": 18,
     "metadata": {},
     "output_type": "execute_result"
    },
    {
     "data": {
      "image/png": "[encoded data removed]",
      "text/plain": [
       "<Figure size 432x288 with 1 Axes>"
      ]
     },
     "metadata": {
      "needs_background": "light"
     },
     "output_type": "display_data"
    }
   ],
   "source": [
    "sns.distplot(df['time_(min)'])"
   ]
  },
  {
   "cell_type": "code",
   "execution_count": 19,
   "metadata": {},
   "outputs": [
    {
     "data": {
      "text/plain": [
       "<matplotlib.axes._subplots.AxesSubplot at 0x24883390860>"
      ]
     },
     "execution_count": 19,
     "metadata": {},
     "output_type": "execute_result"
    },
    {
     "data": {
      "image/png": "[encoded data removed]",
      "text/plain": [
       "<Figure size 432x288 with 1 Axes>"
      ]
     },
     "metadata": {
      "needs_background": "light"
     },
     "output_type": "display_data"
    }
   ],
   "source": [
    "sns.distplot(df['amount'])"
   ]
  },
  {
   "cell_type": "code",
   "execution_count": 20,
   "metadata": {},
   "outputs": [
    {
     "data": {
      "text/plain": [
       "<matplotlib.collections.PathCollection at 0x24882b5de80>"
      ]
     },
     "execution_count": 20,
     "metadata": {},
     "output_type": "execute_result"
    },
    {
     "data": {
      "image/png": "[encoded data removed]",
      "text/plain": [
       "<Figure size 432x288 with 1 Axes>"
      ]
     },
     "metadata": {
      "needs_background": "light"
     },
     "output_type": "display_data"
    }
   ],
   "source": [
    "plt.scatter(df['clicks'], df['amount'])"
   ]
  },
  {
   "cell_type": "code",
   "execution_count": 21,
   "metadata": {},
   "outputs": [
    {
     "data": {
      "text/plain": [
       "<matplotlib.collections.PathCollection at 0x248831d9e10>"
      ]
     },
     "execution_count": 21,
     "metadata": {},
     "output_type": "execute_result"
    },
    {
     "data": {
      "image/png": "[encoded data removed]",
      "text/plain": [
       "<Figure size 432x288 with 1 Axes>"
      ]
     },
     "metadata": {
      "needs_background": "light"
     },
     "output_type": "display_data"
    }
   ],
   "source": [
    "plt.scatter(df['pages_viewed'], df['amount'])"
   ]
  },
  {
   "cell_type": "code",
   "execution_count": 22,
   "metadata": {},
   "outputs": [
    {
     "data": {
      "text/plain": [
       "<matplotlib.collections.PathCollection at 0x2488368f208>"
      ]
     },
     "execution_count": 22,
     "metadata": {},
     "output_type": "execute_result"
    },
    {
     "data": {
      "image/png": "[encoded data removed]",
      "text/plain": [
       "<Figure size 432x288 with 1 Axes>"
      ]
     },
     "metadata": {
      "needs_background": "light"
     },
     "output_type": "display_data"
    }
   ],
   "source": [
    "plt.scatter(df['time_(min)'], df['amount'])"
   ]
  },
  {
   "cell_type": "markdown",
   "metadata": {},
   "source": [
    "# Correlation"
   ]
  },
  {
   "cell_type": "code",
   "execution_count": 23,
   "metadata": {},
   "outputs": [
    {
     "data": {
      "image/png": "[encoded data removed]",
      "text/plain": [
       "<Figure size 288x288 with 1 Axes>"
      ]
     },
     "metadata": {
      "needs_background": "light"
     },
     "output_type": "display_data"
    },
    {
     "data": {
      "text/html": [
       "<div>\n",
       "<style scoped>\n",
       "    .dataframe tbody tr th:only-of-type {\n",
       "        vertical-align: middle;\n",
       "    }\n",
       "\n",
       "    .dataframe tbody tr th {\n",
       "        vertical-align: top;\n",
       "    }\n",
       "\n",
       "    .dataframe thead th {\n",
       "        text-align: right;\n",
       "    }\n",
       "</style>\n",
       "<table border=\"1\" class=\"dataframe\">\n",
       "  <thead>\n",
       "    <tr style=\"text-align: right;\">\n",
       "      <th></th>\n",
       "      <th>customer</th>\n",
       "      <th>clicks</th>\n",
       "      <th>pages_viewed</th>\n",
       "      <th>time_(min)</th>\n",
       "      <th>amount</th>\n",
       "    </tr>\n",
       "  </thead>\n",
       "  <tbody>\n",
       "    <tr>\n",
       "      <th>customer</th>\n",
       "      <td>1.000000</td>\n",
       "      <td>0.002474</td>\n",
       "      <td>0.000821</td>\n",
       "      <td>-0.001407</td>\n",
       "      <td>0.002682</td>\n",
       "    </tr>\n",
       "    <tr>\n",
       "      <th>clicks</th>\n",
       "      <td>0.002474</td>\n",
       "      <td>1.000000</td>\n",
       "      <td>0.566934</td>\n",
       "      <td>0.516365</td>\n",
       "      <td>0.903248</td>\n",
       "    </tr>\n",
       "    <tr>\n",
       "      <th>pages_viewed</th>\n",
       "      <td>0.000821</td>\n",
       "      <td>0.566934</td>\n",
       "      <td>1.000000</td>\n",
       "      <td>0.595568</td>\n",
       "      <td>0.723667</td>\n",
       "    </tr>\n",
       "    <tr>\n",
       "      <th>time_(min)</th>\n",
       "      <td>-0.001407</td>\n",
       "      <td>0.516365</td>\n",
       "      <td>0.595568</td>\n",
       "      <td>1.000000</td>\n",
       "      <td>0.580048</td>\n",
       "    </tr>\n",
       "    <tr>\n",
       "      <th>amount</th>\n",
       "      <td>0.002682</td>\n",
       "      <td>0.903248</td>\n",
       "      <td>0.723667</td>\n",
       "      <td>0.580048</td>\n",
       "      <td>1.000000</td>\n",
       "    </tr>\n",
       "  </tbody>\n",
       "</table>\n",
       "</div>"
      ],
      "text/plain": [
       "              customer    clicks  pages_viewed  time_(min)    amount\n",
       "customer      1.000000  0.002474      0.000821   -0.001407  0.002682\n",
       "clicks        0.002474  1.000000      0.566934    0.516365  0.903248\n",
       "pages_viewed  0.000821  0.566934      1.000000    0.595568  0.723667\n",
       "time_(min)   -0.001407  0.516365      0.595568    1.000000  0.580048\n",
       "amount        0.002682  0.903248      0.723667    0.580048  1.000000"
      ]
     },
     "execution_count": 23,
     "metadata": {},
     "output_type": "execute_result"
    }
   ],
   "source": [
    "plt.matshow(df.corr())\n",
    "plt.show()\n",
    "df.corr()"
   ]
  },
  {
   "cell_type": "code",
   "execution_count": 24,
   "metadata": {},
   "outputs": [
    {
     "data": {
      "text/html": [
       "<style  type=\"text/css\" >\n",
       "    #T_b5c70bf4_e5e0_11e9_ac44_3859f9ebb94drow0_col0 {\n",
       "            background-color:  #b40426;\n",
       "            color:  #f1f1f1;\n",
       "        }    #T_b5c70bf4_e5e0_11e9_ac44_3859f9ebb94drow0_col1 {\n",
       "            background-color:  #3b4cc0;\n",
       "            color:  #f1f1f1;\n",
       "        }    #T_b5c70bf4_e5e0_11e9_ac44_3859f9ebb94drow0_col2 {\n",
       "            background-color:  #3b4cc0;\n",
       "            color:  #f1f1f1;\n",
       "        }    #T_b5c70bf4_e5e0_11e9_ac44_3859f9ebb94drow0_col3 {\n",
       "            background-color:  #3b4cc0;\n",
       "            color:  #f1f1f1;\n",
       "        }    #T_b5c70bf4_e5e0_11e9_ac44_3859f9ebb94drow0_col4 {\n",
       "            background-color:  #3b4cc0;\n",
       "            color:  #f1f1f1;\n",
       "        }    #T_b5c70bf4_e5e0_11e9_ac44_3859f9ebb94drow1_col0 {\n",
       "            background-color:  #3b4cc0;\n",
       "            color:  #f1f1f1;\n",
       "        }    #T_b5c70bf4_e5e0_11e9_ac44_3859f9ebb94drow1_col1 {\n",
       "            background-color:  #b40426;\n",
       "            color:  #f1f1f1;\n",
       "        }    #T_b5c70bf4_e5e0_11e9_ac44_3859f9ebb94drow1_col2 {\n",
       "            background-color:  #edd2c3;\n",
       "            color:  #000000;\n",
       "        }    #T_b5c70bf4_e5e0_11e9_ac44_3859f9ebb94drow1_col3 {\n",
       "            background-color:  #e1dad6;\n",
       "            color:  #000000;\n",
       "        }    #T_b5c70bf4_e5e0_11e9_ac44_3859f9ebb94drow1_col4 {\n",
       "            background-color:  #d55042;\n",
       "            color:  #000000;\n",
       "        }    #T_b5c70bf4_e5e0_11e9_ac44_3859f9ebb94drow2_col0 {\n",
       "            background-color:  #3b4cc0;\n",
       "            color:  #f1f1f1;\n",
       "        }    #T_b5c70bf4_e5e0_11e9_ac44_3859f9ebb94drow2_col1 {\n",
       "            background-color:  #ecd3c5;\n",
       "            color:  #000000;\n",
       "        }    #T_b5c70bf4_e5e0_11e9_ac44_3859f9ebb94drow2_col2 {\n",
       "            background-color:  #b40426;\n",
       "            color:  #f1f1f1;\n",
       "        }    #T_b5c70bf4_e5e0_11e9_ac44_3859f9ebb94drow2_col3 {\n",
       "            background-color:  #f1ccb8;\n",
       "            color:  #000000;\n",
       "        }    #T_b5c70bf4_e5e0_11e9_ac44_3859f9ebb94drow2_col4 {\n",
       "            background-color:  #f6a385;\n",
       "            color:  #000000;\n",
       "        }    #T_b5c70bf4_e5e0_11e9_ac44_3859f9ebb94drow3_col0 {\n",
       "            background-color:  #3b4cc0;\n",
       "            color:  #f1f1f1;\n",
       "        }    #T_b5c70bf4_e5e0_11e9_ac44_3859f9ebb94drow3_col1 {\n",
       "            background-color:  #e0dbd8;\n",
       "            color:  #000000;\n",
       "        }    #T_b5c70bf4_e5e0_11e9_ac44_3859f9ebb94drow3_col2 {\n",
       "            background-color:  #f1ccb8;\n",
       "            color:  #000000;\n",
       "        }    #T_b5c70bf4_e5e0_11e9_ac44_3859f9ebb94drow3_col3 {\n",
       "            background-color:  #b40426;\n",
       "            color:  #f1f1f1;\n",
       "        }    #T_b5c70bf4_e5e0_11e9_ac44_3859f9ebb94drow3_col4 {\n",
       "            background-color:  #efcfbf;\n",
       "            color:  #000000;\n",
       "        }    #T_b5c70bf4_e5e0_11e9_ac44_3859f9ebb94drow4_col0 {\n",
       "            background-color:  #3c4ec2;\n",
       "            color:  #f1f1f1;\n",
       "        }    #T_b5c70bf4_e5e0_11e9_ac44_3859f9ebb94drow4_col1 {\n",
       "            background-color:  #d55042;\n",
       "            color:  #000000;\n",
       "        }    #T_b5c70bf4_e5e0_11e9_ac44_3859f9ebb94drow4_col2 {\n",
       "            background-color:  #f6a385;\n",
       "            color:  #000000;\n",
       "        }    #T_b5c70bf4_e5e0_11e9_ac44_3859f9ebb94drow4_col3 {\n",
       "            background-color:  #efcfbf;\n",
       "            color:  #000000;\n",
       "        }    #T_b5c70bf4_e5e0_11e9_ac44_3859f9ebb94drow4_col4 {\n",
       "            background-color:  #b40426;\n",
       "            color:  #f1f1f1;\n",
       "        }</style><table id=\"T_b5c70bf4_e5e0_11e9_ac44_3859f9ebb94d\" ><thead>    <tr>        <th class=\"blank level0\" ></th>        <th class=\"col_heading level0 col0\" >customer</th>        <th class=\"col_heading level0 col1\" >clicks</th>        <th class=\"col_heading level0 col2\" >pages_viewed</th>        <th class=\"col_heading level0 col3\" >time_(min)</th>        <th class=\"col_heading level0 col4\" >amount</th>    </tr></thead><tbody>\n",
       "                <tr>\n",
       "                        <th id=\"T_b5c70bf4_e5e0_11e9_ac44_3859f9ebb94dlevel0_row0\" class=\"row_heading level0 row0\" >customer</th>\n",
       "                        <td id=\"T_b5c70bf4_e5e0_11e9_ac44_3859f9ebb94drow0_col0\" class=\"data row0 col0\" >1</td>\n",
       "                        <td id=\"T_b5c70bf4_e5e0_11e9_ac44_3859f9ebb94drow0_col1\" class=\"data row0 col1\" >0.00247433</td>\n",
       "                        <td id=\"T_b5c70bf4_e5e0_11e9_ac44_3859f9ebb94drow0_col2\" class=\"data row0 col2\" >0.000820603</td>\n",
       "                        <td id=\"T_b5c70bf4_e5e0_11e9_ac44_3859f9ebb94drow0_col3\" class=\"data row0 col3\" >-0.00140723</td>\n",
       "                        <td id=\"T_b5c70bf4_e5e0_11e9_ac44_3859f9ebb94drow0_col4\" class=\"data row0 col4\" >0.0026815</td>\n",
       "            </tr>\n",
       "            <tr>\n",
       "                        <th id=\"T_b5c70bf4_e5e0_11e9_ac44_3859f9ebb94dlevel0_row1\" class=\"row_heading level0 row1\" >clicks</th>\n",
       "                        <td id=\"T_b5c70bf4_e5e0_11e9_ac44_3859f9ebb94drow1_col0\" class=\"data row1 col0\" >0.00247433</td>\n",
       "                        <td id=\"T_b5c70bf4_e5e0_11e9_ac44_3859f9ebb94drow1_col1\" class=\"data row1 col1\" >1</td>\n",
       "                        <td id=\"T_b5c70bf4_e5e0_11e9_ac44_3859f9ebb94drow1_col2\" class=\"data row1 col2\" >0.566934</td>\n",
       "                        <td id=\"T_b5c70bf4_e5e0_11e9_ac44_3859f9ebb94drow1_col3\" class=\"data row1 col3\" >0.516365</td>\n",
       "                        <td id=\"T_b5c70bf4_e5e0_11e9_ac44_3859f9ebb94drow1_col4\" class=\"data row1 col4\" >0.903248</td>\n",
       "            </tr>\n",
       "            <tr>\n",
       "                        <th id=\"T_b5c70bf4_e5e0_11e9_ac44_3859f9ebb94dlevel0_row2\" class=\"row_heading level0 row2\" >pages_viewed</th>\n",
       "                        <td id=\"T_b5c70bf4_e5e0_11e9_ac44_3859f9ebb94drow2_col0\" class=\"data row2 col0\" >0.000820603</td>\n",
       "                        <td id=\"T_b5c70bf4_e5e0_11e9_ac44_3859f9ebb94drow2_col1\" class=\"data row2 col1\" >0.566934</td>\n",
       "                        <td id=\"T_b5c70bf4_e5e0_11e9_ac44_3859f9ebb94drow2_col2\" class=\"data row2 col2\" >1</td>\n",
       "                        <td id=\"T_b5c70bf4_e5e0_11e9_ac44_3859f9ebb94drow2_col3\" class=\"data row2 col3\" >0.595568</td>\n",
       "                        <td id=\"T_b5c70bf4_e5e0_11e9_ac44_3859f9ebb94drow2_col4\" class=\"data row2 col4\" >0.723667</td>\n",
       "            </tr>\n",
       "            <tr>\n",
       "                        <th id=\"T_b5c70bf4_e5e0_11e9_ac44_3859f9ebb94dlevel0_row3\" class=\"row_heading level0 row3\" >time_(min)</th>\n",
       "                        <td id=\"T_b5c70bf4_e5e0_11e9_ac44_3859f9ebb94drow3_col0\" class=\"data row3 col0\" >-0.00140723</td>\n",
       "                        <td id=\"T_b5c70bf4_e5e0_11e9_ac44_3859f9ebb94drow3_col1\" class=\"data row3 col1\" >0.516365</td>\n",
       "                        <td id=\"T_b5c70bf4_e5e0_11e9_ac44_3859f9ebb94drow3_col2\" class=\"data row3 col2\" >0.595568</td>\n",
       "                        <td id=\"T_b5c70bf4_e5e0_11e9_ac44_3859f9ebb94drow3_col3\" class=\"data row3 col3\" >1</td>\n",
       "                        <td id=\"T_b5c70bf4_e5e0_11e9_ac44_3859f9ebb94drow3_col4\" class=\"data row3 col4\" >0.580048</td>\n",
       "            </tr>\n",
       "            <tr>\n",
       "                        <th id=\"T_b5c70bf4_e5e0_11e9_ac44_3859f9ebb94dlevel0_row4\" class=\"row_heading level0 row4\" >amount</th>\n",
       "                        <td id=\"T_b5c70bf4_e5e0_11e9_ac44_3859f9ebb94drow4_col0\" class=\"data row4 col0\" >0.0026815</td>\n",
       "                        <td id=\"T_b5c70bf4_e5e0_11e9_ac44_3859f9ebb94drow4_col1\" class=\"data row4 col1\" >0.903248</td>\n",
       "                        <td id=\"T_b5c70bf4_e5e0_11e9_ac44_3859f9ebb94drow4_col2\" class=\"data row4 col2\" >0.723667</td>\n",
       "                        <td id=\"T_b5c70bf4_e5e0_11e9_ac44_3859f9ebb94drow4_col3\" class=\"data row4 col3\" >0.580048</td>\n",
       "                        <td id=\"T_b5c70bf4_e5e0_11e9_ac44_3859f9ebb94drow4_col4\" class=\"data row4 col4\" >1</td>\n",
       "            </tr>\n",
       "    </tbody></table>"
      ],
      "text/plain": [
       "<pandas.io.formats.style.Styler at 0x24882be8fd0>"
      ]
     },
     "execution_count": 24,
     "metadata": {},
     "output_type": "execute_result"
    }
   ],
   "source": [
    "corr = df.corr()\n",
    "corr.style.background_gradient(cmap='coolwarm')"
   ]
  },
  {
   "cell_type": "code",
   "execution_count": 56,
   "metadata": {},
   "outputs": [],
   "source": [
    "X= df[['clicks']]\n",
    "y= df[['amount']]"
   ]
  },
  {
   "cell_type": "markdown",
   "metadata": {},
   "source": [
    "# Linear Regression"
   ]
  },
  {
   "cell_type": "code",
   "execution_count": 27,
   "metadata": {
    "scrolled": true
   },
   "outputs": [
    {
     "data": {
      "text/html": [
       "<table class=\"simpletable\">\n",
       "<caption>OLS Regression Results</caption>\n",
       "<tr>\n",
       "  <th>Dep. Variable:</th>            <td>y</td>        <th>  R-squared:         </th>  <td>   0.816</td>  \n",
       "</tr>\n",
       "<tr>\n",
       "  <th>Model:</th>                   <td>OLS</td>       <th>  Adj. R-squared:    </th>  <td>   0.816</td>  \n",
       "</tr>\n",
       "<tr>\n",
       "  <th>Method:</th>             <td>Least Squares</td>  <th>  F-statistic:       </th>  <td>1.914e+05</td> \n",
       "</tr>\n",
       "<tr>\n",
       "  <th>Date:</th>             <td>Thu, 03 Oct 2019</td> <th>  Prob (F-statistic):</th>   <td>  0.00</td>   \n",
       "</tr>\n",
       "<tr>\n",
       "  <th>Time:</th>                 <td>18:51:39</td>     <th>  Log-Likelihood:    </th> <td>-3.7344e+05</td>\n",
       "</tr>\n",
       "<tr>\n",
       "  <th>No. Observations:</th>      <td> 43200</td>      <th>  AIC:               </th>  <td>7.469e+05</td> \n",
       "</tr>\n",
       "<tr>\n",
       "  <th>Df Residuals:</th>          <td> 43198</td>      <th>  BIC:               </th>  <td>7.469e+05</td> \n",
       "</tr>\n",
       "<tr>\n",
       "  <th>Df Model:</th>              <td>     1</td>      <th>                     </th>      <td> </td>     \n",
       "</tr>\n",
       "<tr>\n",
       "  <th>Covariance Type:</th>      <td>nonrobust</td>    <th>                     </th>      <td> </td>     \n",
       "</tr>\n",
       "</table>\n",
       "<table class=\"simpletable\">\n",
       "<tr>\n",
       "      <td></td>         <th>coef</th>     <th>std err</th>      <th>t</th>      <th>P>|t|</th>  <th>[0.025</th>    <th>0.975]</th>  \n",
       "</tr>\n",
       "<tr>\n",
       "  <th>Intercept</th> <td>-1491.6972</td> <td>   20.101</td> <td>  -74.211</td> <td> 0.000</td> <td>-1531.095</td> <td>-1452.300</td>\n",
       "</tr>\n",
       "<tr>\n",
       "  <th>X</th>         <td>  349.8112</td> <td>    0.800</td> <td>  437.483</td> <td> 0.000</td> <td>  348.244</td> <td>  351.378</td>\n",
       "</tr>\n",
       "</table>\n",
       "<table class=\"simpletable\">\n",
       "<tr>\n",
       "  <th>Omnibus:</th>       <td>21072.023</td> <th>  Durbin-Watson:     </th>  <td>   2.000</td> \n",
       "</tr>\n",
       "<tr>\n",
       "  <th>Prob(Omnibus):</th>  <td> 0.000</td>   <th>  Jarque-Bera (JB):  </th> <td>247889.095</td>\n",
       "</tr>\n",
       "<tr>\n",
       "  <th>Skew:</th>           <td> 2.060</td>   <th>  Prob(JB):          </th>  <td>    0.00</td> \n",
       "</tr>\n",
       "<tr>\n",
       "  <th>Kurtosis:</th>       <td>13.988</td>   <th>  Cond. No.          </th>  <td>    76.5</td> \n",
       "</tr>\n",
       "</table><br/><br/>Warnings:<br/>[1] Standard Errors assume that the covariance matrix of the errors is correctly specified."
      ],
      "text/plain": [
       "<class 'statsmodels.iolib.summary.Summary'>\n",
       "\"\"\"\n",
       "                            OLS Regression Results                            \n",
       "==============================================================================\n",
       "Dep. Variable:                      y   R-squared:                       0.816\n",
       "Model:                            OLS   Adj. R-squared:                  0.816\n",
       "Method:                 Least Squares   F-statistic:                 1.914e+05\n",
       "Date:                Thu, 03 Oct 2019   Prob (F-statistic):               0.00\n",
       "Time:                        18:51:39   Log-Likelihood:            -3.7344e+05\n",
       "No. Observations:               43200   AIC:                         7.469e+05\n",
       "Df Residuals:                   43198   BIC:                         7.469e+05\n",
       "Df Model:                           1                                         \n",
       "Covariance Type:            nonrobust                                         \n",
       "==============================================================================\n",
       "                 coef    std err          t      P>|t|      [0.025      0.975]\n",
       "------------------------------------------------------------------------------\n",
       "Intercept  -1491.6972     20.101    -74.211      0.000   -1531.095   -1452.300\n",
       "X            349.8112      0.800    437.483      0.000     348.244     351.378\n",
       "==============================================================================\n",
       "Omnibus:                    21072.023   Durbin-Watson:                   2.000\n",
       "Prob(Omnibus):                  0.000   Jarque-Bera (JB):           247889.095\n",
       "Skew:                           2.060   Prob(JB):                         0.00\n",
       "Kurtosis:                      13.988   Cond. No.                         76.5\n",
       "==============================================================================\n",
       "\n",
       "Warnings:\n",
       "[1] Standard Errors assume that the covariance matrix of the errors is correctly specified.\n",
       "\"\"\""
      ]
     },
     "execution_count": 27,
     "metadata": {},
     "output_type": "execute_result"
    }
   ],
   "source": [
    "# Using Statmodel \n",
    "model= sm.ols(formula= 'y ~ X', data=df) \n",
    "fitted= model.fit()\n",
    "fitted.summary()"
   ]
  },
  {
   "cell_type": "code",
   "execution_count": 63,
   "metadata": {},
   "outputs": [],
   "source": [
    "# Using SKlearn\n",
    "model1 = LinearRegression()\n",
    "model1.fit(X,y)\n",
    "y_pred = model1.predict(X)"
   ]
  },
  {
   "cell_type": "code",
   "execution_count": 59,
   "metadata": {},
   "outputs": [
    {
     "data": {
      "image/png": "[encoded data removed]",
      "text/plain": [
       "<Figure size 432x288 with 1 Axes>"
      ]
     },
     "metadata": {
      "needs_background": "light"
     },
     "output_type": "display_data"
    }
   ],
   "source": [
    "plt.scatter(X , y, color= 'red')\n",
    "plt.plot(X, model1.predict(X), color= 'blue')\n",
    "plt.title('Linear Regression')\n",
    "plt.xlabel('Clicks')\n",
    "plt.ylabel('Amounts')\n",
    "plt.show()"
   ]
  },
  {
   "cell_type": "code",
   "execution_count": 64,
   "metadata": {},
   "outputs": [
    {
     "name": "stdout",
     "output_type": "stream",
     "text": [
      "1373.9819178008286\n"
     ]
    }
   ],
   "source": [
    "## Root mean square error\n",
    "rmse = sqrt(mean_squared_error(y, y_pred))\n",
    "print(rmse)"
   ]
  }
 ],
 "metadata": {
  "kernelspec": {
   "display_name": "Python 3",
   "language": "python",
   "name": "python3"
  },
  "language_info": {
   "codemirror_mode": {
    "name": "ipython",
    "version": 3
   },
   "file_extension": ".py",
   "mimetype": "text/x-python",
   "name": "python",
   "nbconvert_exporter": "python",
   "pygments_lexer": "ipython3",
   "version": "3.7.3"
  },
  "toc": {
   "base_numbering": 1,
   "nav_menu": {},
   "number_sections": true,
   "sideBar": true,
   "skip_h1_title": false,
   "title_cell": "Table of Contents",
   "title_sidebar": "Contents",
   "toc_cell": false,
   "toc_position": {},
   "toc_section_display": true,
   "toc_window_display": false
  },
  "varInspector": {
   "cols": {
    "lenName": 16,
    "lenType": 16,
    "lenVar": 40
   },
   "kernels_config": {
    "python": {
     "delete_cmd_postfix": "",
     "delete_cmd_prefix": "del ",
     "library": "var_list.py",
     "varRefreshCmd": "print(var_dic_list())"
    },
    "r": {
     "delete_cmd_postfix": ") ",
     "delete_cmd_prefix": "rm(",
     "library": "var_list.r",
     "varRefreshCmd": "cat(var_dic_list()) "
    }
   },
   "types_to_exclude": [
    "module",
    "function",
    "builtin_function_or_method",
    "instance",
    "_Feature"
   ],
   "window_display": false
  }
 },
 "nbformat": 4,
 "nbformat_minor": 2
}
